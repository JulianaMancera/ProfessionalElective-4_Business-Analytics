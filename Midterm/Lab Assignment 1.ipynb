{
 "cells": [
  {
   "cell_type": "markdown",
   "id": "08f90446",
   "metadata": {},
   "source": [
    "**Lab Assignment 1 - Control Structures**"
   ]
  },
  {
   "cell_type": "markdown",
   "id": "163c5c8a",
   "metadata": {},
   "source": [
    "## Task 1"
   ]
  },
  {
   "cell_type": "markdown",
   "id": "de48fdac",
   "metadata": {},
   "source": [
    "Develop a Python program that applies discounts to products based on their prices. The program should:\n",
    "\n",
    "*   Store product names and prices in a dictionary.\n",
    "*   Use a for loop with `range()` to process each product.\n",
    "*   Apply an `if-elif-else` statement to categorize discounts:\n",
    "\n",
    "    *   If the price is above $500, apply a 20% discount.\n",
    "    *   If the price is between $100 and $500, apply a 10% discount.\n",
    "    *   If the price is below $100, apply no discount.\n",
    "\n",
    "**Use the following products with its discount as test data:**\n",
    "\n",
    "Product Name\n",
    "\n",
    "1.   Laptop\n",
    "2.   Headphones\n",
    "3.   Smartphone\n",
    "4.   Tablet\n",
    "5.   Monitor\n",
    "\n",
    "Price\n",
    "1.  800\n",
    "2.  75\n",
    "3.  450\n",
    "4.  200\n",
    "5.  600"
   ]
  },
  {
   "cell_type": "code",
   "execution_count": 2,
   "id": "9b7a01cf",
   "metadata": {},
   "outputs": [
    {
     "name": "stdout",
     "output_type": "stream",
     "text": [
      "📱 Discounted Gadgets 💵\n",
      "\n",
      "*************************\n",
      "Laptop💻: $800\n",
      "Discount: $160.00\n",
      "Discounted Price: $640.00\n",
      "*************************\n",
      "\n",
      "*************************\n",
      "Headphones🎧: $75\n",
      "Discount: $0.00\n",
      "Discounted Price: $75.00\n",
      "*************************\n",
      "\n",
      "*************************\n",
      "Smartphone📱: $450\n",
      "Discount: $45.00\n",
      "Discounted Price: $405.00\n",
      "*************************\n",
      "\n",
      "*************************\n",
      "Tablet🔳: $200\n",
      "Discount: $20.00\n",
      "Discounted Price: $180.00\n",
      "*************************\n",
      "\n",
      "*************************\n",
      "Monitor🖥️: $600\n",
      "Discount: $120.00\n",
      "Discounted Price: $480.00\n",
      "*************************\n",
      "\n"
     ]
    }
   ],
   "source": [
    "print(\"📱 Discounted Gadgets 💵\\n\")\n",
    "\n",
    "products = {\n",
    "    'Laptop💻': 800,\n",
    "    'Headphones🎧': 75,\n",
    "    'Smartphone📱': 450,\n",
    "    'Tablet🔳': 200,\n",
    "    'Monitor🖥️': 600\n",
    "}\n",
    "\n",
    "for name, price in products.items():\n",
    "    if price > 500:\n",
    "        discount = 0.20\n",
    "    elif 100 <= price <= 500:\n",
    "        discount = 0.10\n",
    "    else:\n",
    "        discount = 0.00\n",
    "\n",
    "    discount_amount = price * discount\n",
    "    discounted_price = price - discount_amount\n",
    "    print(\"*************************\")\n",
    "    print(f\"{name}: ${price}\")\n",
    "    print(f\"Discount: ${discount_amount:.2f}\")\n",
    "    print(f\"Discounted Price: ${discounted_price:.2f}\")\n",
    "    print(\"*************************\\n\")\n"
   ]
  },
  {
   "cell_type": "markdown",
   "id": "76c1340d",
   "metadata": {},
   "source": [
    "## Task 2"
   ]
  },
  {
   "cell_type": "markdown",
   "id": "8647c497",
   "metadata": {},
   "source": [
    "You are organizing a tech conference where attendees register for different sessions. Some attendees may register for multiple sessions, but you need to determine the total number of unique participants across all sessions.\n",
    "\n",
    "Write a Python program that:\n",
    "*  Takes a list of attendees for each session.\n",
    "*  Uses sets to find the unique attendees.\n",
    "*  Outputs the total number of unique participants.\n",
    "\n",
    "Use this test data in your program:\n",
    "  *  Session 1 attendees : Alice, Bob, Charlie\n",
    "  *  Session 2 attendees:  Charlie, David, Alice\n",
    "  *  Session 3 attendees:  Eve, Frank, Alice\n",
    "\n",
    "**Hint:** You will use union to combine all sessions"
   ]
  },
  {
   "cell_type": "code",
   "execution_count": 3,
   "id": "d63cd7c3",
   "metadata": {},
   "outputs": [
    {
     "name": "stdout",
     "output_type": "stream",
     "text": [
      "Total number of unique participants: 6\n"
     ]
    }
   ],
   "source": [
    "session1 = ['Alice', 'Bob', 'Charlie']\n",
    "session2 = ['Charlie', 'David', 'Alice']\n",
    "session3 = ['Eve', 'Frank', 'Alice']\n",
    "\n",
    "setSessions = set(session1).union(set(session2), set(session3))\n",
    "\n",
    "print(f\"Total number of unique participants: {len(setSessions)}\")"
   ]
  },
  {
   "cell_type": "markdown",
   "id": "ca6845a4",
   "metadata": {},
   "source": [
    "## Task 3"
   ]
  },
  {
   "cell_type": "markdown",
   "id": "0ae82478",
   "metadata": {},
   "source": [
    "You are tracking the temperature readings of a city for 7 days. Given a list of recorded temperatures, write a Python program that:\n",
    "\n",
    "*  Uses a for loop with `range()` to iterate over the temperature readings.\n",
    "*  Computes the total and average temperature for the week.\n",
    "*  Displays both the total and average temperature.\n",
    "\n",
    "Use this temperatures as your sample data: 30, 32, 29, 31, 28, 27, 33\n",
    "\n",
    "**Note:** Use `round()` function to average temperature. Use 2 decimal places for the decimal point."
   ]
  },
  {
   "cell_type": "code",
   "execution_count": 4,
   "id": "39f45975",
   "metadata": {},
   "outputs": [
    {
     "name": "stdout",
     "output_type": "stream",
     "text": [
      "Temperature readings: [30, 32, 29, 31, 28, 27, 33]\n",
      "Total temperature for the week: 210\n",
      "Average temperature for the week: 30.0\n"
     ]
    }
   ],
   "source": [
    "weekly_temperatures = [30, 32, 29, 31, 28, 27, 33]\n",
    "sum_of_temperatures = 0\n",
    "\n",
    "for temp in weekly_temperatures:\n",
    "  sum_of_temperatures += temp\n",
    "\n",
    "average_temp_week = sum_of_temperatures / len(weekly_temperatures)\n",
    "\n",
    "rounded_average_temperature = round(average_temp_week, 2)\n",
    "\n",
    "print(f\"Temperature readings: {weekly_temperatures}\")\n",
    "print(f\"Total temperature for the week: {sum_of_temperatures}\")\n",
    "print(f\"Average temperature for the week: {rounded_average_temperature}\")"
   ]
  }
 ],
 "metadata": {
  "kernelspec": {
   "display_name": "Python 3",
   "language": "python",
   "name": "python3"
  },
  "language_info": {
   "codemirror_mode": {
    "name": "ipython",
    "version": 3
   },
   "file_extension": ".py",
   "mimetype": "text/x-python",
   "name": "python",
   "nbconvert_exporter": "python",
   "pygments_lexer": "ipython3",
   "version": "3.12.10"
  }
 },
 "nbformat": 4,
 "nbformat_minor": 5
}
