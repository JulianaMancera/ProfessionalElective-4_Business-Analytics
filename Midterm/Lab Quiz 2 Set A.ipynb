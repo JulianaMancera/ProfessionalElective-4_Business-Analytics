{
 "cells": [
  {
   "cell_type": "markdown",
   "id": "78eb0ad5",
   "metadata": {},
   "source": [
    "**Lab Quiz 2 SET A - Control Structures**"
   ]
  },
  {
   "cell_type": "markdown",
   "id": "8a2744ad",
   "metadata": {},
   "source": [
    "1. Develop a Python program that calculates bus fare discounts based on a passenger’s category (`Student`, `Adult`, or `Senior Citizen`) - **20 points.**\n",
    "*  Store passenger names and their categories in a dictionary.\n",
    "*  Use a for loop with `range()` to process each passenger.\n",
    "*  Use `if-elif-else` statements to determine the fare:\n",
    "\t*  **Student** → 50% discount on base fare.\n",
    "\t*  **Senior Citizen** (age 60 and above) → 30% discount.\n",
    "\t*  **Adult** → No discount.\n",
    "*  Assume that the base fare is ₱10.\n",
    "*  Print each passenger's name, category, and final fare.\n",
    "\n",
    "**TEST DATA**\n",
    "| Passenger Name | Category  |\n",
    "| :----------: |  :----------: | \n",
    "| Anna    |   Student   |\n",
    "| Ben\t  |\t  Adult     |\n",
    "| Clara   |   Senior Citizen   |\n",
    "| David   |   Student   |\n",
    "| Ethan   |   Senior Citizen   |"
   ]
  },
  {
   "cell_type": "code",
   "execution_count": 1,
   "id": "55391629",
   "metadata": {},
   "outputs": [
    {
     "name": "stdout",
     "output_type": "stream",
     "text": [
      "========= Passenger Information ==========\n",
      "\n",
      "Passenger: Anna\n",
      "Category: Student\n",
      "Final Fare: ₱5.00\n",
      "******************\n",
      "Passenger: Ben\n",
      "Category: Adult\n",
      "Final Fare: ₱10.00\n",
      "******************\n",
      "Passenger: Clara\n",
      "Category: Senior Citizen\n",
      "Final Fare: ₱7.00\n",
      "******************\n",
      "Passenger: David\n",
      "Category: Student\n",
      "Final Fare: ₱5.00\n",
      "******************\n",
      "Passenger: Ethan\n",
      "Category: Senior Citizen\n",
      "Final Fare: ₱7.00\n",
      "******************\n"
     ]
    }
   ],
   "source": [
    "print(\"========= Passenger Information ==========\\n\")\n",
    "passengers = {\n",
    "    'Anna': 'Student',\n",
    "    'Ben': 'Adult',\n",
    "    'Clara': 'Senior Citizen',\n",
    "    'David': 'Student',\n",
    "    'Ethan': 'Senior Citizen'\n",
    "}\n",
    "\n",
    "base_fare = 10\n",
    "\n",
    "for name, category in passengers.items():\n",
    "    final_fare = base_fare\n",
    "    if category == 'Student':\n",
    "        final_fare *= 0.5\n",
    "    elif category == 'Senior Citizen':\n",
    "        final_fare *= 0.7\n",
    "# for an adult, no discount\n",
    "\n",
    "    print(f\"Passenger: {name}\")\n",
    "    print(f\"Category: {category}\")\n",
    "    print(f\"Final Fare: ₱{final_fare:.2f}\")\n",
    "    print(\"******************\")"
   ]
  },
  {
   "cell_type": "markdown",
   "id": "64f4201e",
   "metadata": {},
   "source": [
    "2.  Write a Python program that (20 points):\n",
    "*  Takes a list of participants for each ACSS meeting.\n",
    "*  Uses sets to store participants per meeting.\n",
    "*  Uses set union to find the total number of unique participants.\n",
    "*  Outputs:\n",
    "  *  The list of all unique participants.\n",
    "  *  The total number of unique participants.\n",
    "\n",
    "**TEST DATA:**\n",
    "\n",
    "| ACSS Meeting | Participants |\n",
    "| :----------: |  :----------: | \n",
    "| Meeting 1    |   Mia, Noah, Olivia    |\n",
    "| Meeting 2\t   |\t Olivia, Liam, Emma   |\n",
    "| Meeting 3    |   Ava, Noah, Mia       |"
   ]
  },
  {
   "cell_type": "code",
   "execution_count": 3,
   "id": "4573f4ff",
   "metadata": {},
   "outputs": [
    {
     "name": "stdout",
     "output_type": "stream",
     "text": [
      "========= ACSS Meeting ==========\n",
      "\n",
      "List of all unique participants:\n",
      "{'Noah', 'Olivia', 'Liam', 'Ava', 'Emma', 'Mia'}\n",
      "\n",
      "Total number of unique participants:\n",
      "6\n"
     ]
    }
   ],
   "source": [
    "print(\"========= ACSS Meeting ==========\\n\")\n",
    "\n",
    "meeting1_participants = {'Mia', 'Noah', 'Olivia'}\n",
    "meeting2_participants = {'Olivia', 'Liam', 'Emma'}\n",
    "meeting3_participants = {'Ava', 'Noah', 'Mia'}\n",
    "\n",
    "all_participants = meeting1_participants.union(meeting2_participants, meeting3_participants)\n",
    "\n",
    "print(\"List of all unique participants:\")\n",
    "print(all_participants)\n",
    "\n",
    "print(\"\\nTotal number of unique participants:\")\n",
    "print(len(all_participants))"
   ]
  },
  {
   "cell_type": "markdown",
   "id": "6cf31612",
   "metadata": {},
   "source": [
    "3. Write a Python program that (30 points):\n",
    "*  Uses a list to store the number of Sir Jerry's steps walked each day.\n",
    "*  Uses a for loop with `range()` to iterate through the data.\n",
    "*  Calculates the total number of steps for the week.\n",
    "*  Computes and displays the average steps per day, rounded to 2 decimal places\n",
    "*  Prints both total and average steps\n",
    "\n",
    "**📚 Test Data:**\n",
    "\n",
    ">  8500, 9200, 7800, 10200, 8800, 7600, 9400\n"
   ]
  },
  {
   "cell_type": "code",
   "execution_count": 4,
   "id": "023c4776",
   "metadata": {},
   "outputs": [
    {
     "name": "stdout",
     "output_type": "stream",
     "text": [
      "========= Sir Jerry's Steps🏃‍♂️===========\n",
      "\n",
      "Total steps for the week: 61500\n",
      "Average steps per day: 8785.71\n"
     ]
    }
   ],
   "source": [
    "print(\"========= Sir Jerry's Steps🏃‍♂️===========\\n\")\n",
    "\n",
    "steps_list = [8500, 9200, 7800, 10200, 8800, 7600, 9400]\n",
    "total_steps = 0\n",
    "\n",
    "for steps in steps_list:\n",
    "    total_steps += steps\n",
    "\n",
    "average_steps = total_steps / len(steps_list)\n",
    "\n",
    "print(f\"Total steps for the week: {total_steps}\")\n",
    "print(f\"Average steps per day: {average_steps:.2f}\")"
   ]
  }
 ],
 "metadata": {
  "kernelspec": {
   "display_name": "Python 3",
   "language": "python",
   "name": "python3"
  },
  "language_info": {
   "codemirror_mode": {
    "name": "ipython",
    "version": 3
   },
   "file_extension": ".py",
   "mimetype": "text/x-python",
   "name": "python",
   "nbconvert_exporter": "python",
   "pygments_lexer": "ipython3",
   "version": "3.12.10"
  }
 },
 "nbformat": 4,
 "nbformat_minor": 5
}
