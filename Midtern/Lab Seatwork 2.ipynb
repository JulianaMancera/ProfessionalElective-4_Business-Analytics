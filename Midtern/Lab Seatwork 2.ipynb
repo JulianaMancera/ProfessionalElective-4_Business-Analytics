{
 "cells": [
  {
   "cell_type": "markdown",
   "id": "bcf7f6f8",
   "metadata": {},
   "source": [
    "**Lab Seatwork 2 - Control Structures**"
   ]
  },
  {
   "cell_type": "markdown",
   "id": "4f0cb7d4",
   "metadata": {},
   "source": [
    "### Problem Description"
   ]
  },
  {
   "cell_type": "markdown",
   "id": "e185777d",
   "metadata": {},
   "source": [
    "**Develop a Python program for a business that automates inventory reordering. The program should:**\n",
    "\n",
    "1. Maintain a list of products and their stock levels.\n",
    "2. Continuously check inventory levels using a loop. Use for loop range\n",
    "2. Use an if-elif-else statement to determine when to reorder:\n",
    "\n",
    "If stock is below the critical threshold, print \"place an urgent reorder\".\n",
    "\n",
    "If stock is below the optimal threshold but above the critical level, print \"place a standard reorder\".\n",
    "\n",
    "If stock is sufficient, print \"no reorder is needed\".\n",
    "\n",
    "> List of products and stock is stored in dictionary dict_products:\n",
    "*   dict_products = { \"laptop\" : 5, \"mouse\": 10, \"keyboard\" : 3 }\n",
    "*   critical_threshold = 4\n",
    "*   critical_level = 5"
   ]
  },
  {
   "cell_type": "code",
   "execution_count": 1,
   "id": "77827ea8",
   "metadata": {},
   "outputs": [
    {
     "name": "stdout",
     "output_type": "stream",
     "text": [
      "=====Inventory Reordering=====\n",
      "\n",
      "Checking inventory for laptop: 5 stocks\n",
      "no reorder is needed\n",
      "**************************************\n",
      "Checking inventory for mouse: 10 stocks\n",
      "place a standard reorder\n",
      "**************************************\n",
      "Checking inventory for keyboard: 3 stocks\n",
      "place an urgent reorder\n",
      "**************************************\n"
     ]
    }
   ],
   "source": [
    "print(\"=====Inventory Reordering=====\\n\")\n",
    "\n",
    "dict_products = { \"laptop\" : 5, \"mouse\": 10, \"keyboard\" : 3 }\n",
    "critical_threshold = 4\n",
    "critical_level = 5\n",
    "\n",
    "for product, stock in dict_products.items():\n",
    "    print(f\"Checking inventory for {product}: {stock} stocks\")\n",
    "    if stock < critical_threshold:\n",
    "        print(\"place an urgent reorder\")\n",
    "    elif stock > critical_level:\n",
    "        print(\"place a standard reorder\")\n",
    "    else:\n",
    "        print(\"no reorder is needed\")\n",
    "    print(\"**************************************\")"
   ]
  }
 ],
 "metadata": {
  "kernelspec": {
   "display_name": "Python 3",
   "language": "python",
   "name": "python3"
  },
  "language_info": {
   "codemirror_mode": {
    "name": "ipython",
    "version": 3
   },
   "file_extension": ".py",
   "mimetype": "text/x-python",
   "name": "python",
   "nbconvert_exporter": "python",
   "pygments_lexer": "ipython3",
   "version": "3.12.10"
  }
 },
 "nbformat": 4,
 "nbformat_minor": 5
}
