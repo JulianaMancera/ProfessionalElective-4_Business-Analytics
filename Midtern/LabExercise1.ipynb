{
 "cells": [
  {
   "cell_type": "markdown",
   "id": "3e2e8ee3",
   "metadata": {},
   "source": [
    "**Lab Exercise 1 - Markdown and Python Basics**"
   ]
  },
  {
   "cell_type": "markdown",
   "id": "32694fcb",
   "metadata": {},
   "source": [
    "# Introduction to Markdown\n",
    "\n",
    "Colab has two types of cells: text and code. Text cells are formatted using sa simple markup language called Markdown.\n",
    "\n"
   ]
  },
  {
   "cell_type": "markdown",
   "id": "063f4b80",
   "metadata": {},
   "source": [
    "## Bold, Italics and Underline\n",
    "Surround the word with double asterisk to make it  **bold**.\n",
    "\n",
    "Surround the word with single underscore to make it _italics_. You may use also the single asterisk to *italicized*."
   ]
  },
  {
   "cell_type": "markdown",
   "id": "6baaf699",
   "metadata": {},
   "source": [
    "## Paragraphs, Images, Hyperlinks\n",
    "> Use the greater than symbol (>) to indent the paragraph. Strike two times enter key to move the next line.\n",
    ">> If there is a sub paragraph, use the double grater than symbol.\n",
    "\n",
    "Use the syntax \"[Name of the link] (URL)\" to include hyperlink in your notebook\n",
    "Example: \"[NEUVLE] (https://neuvle.neu.edu.ph)\n",
    "\n",
    "Use the syntax ![Google Logo](https://pngimg.com/uploads/google/google_PNG102344.png)\n",
    "\n",
    "Alternatively, you may use the img html tag: <br>\n",
    "<img src = \"https://pngimg.com/uploads/google/google_PNG102344.png\" width=25%>"
   ]
  },
  {
   "cell_type": "markdown",
   "id": "74ff240d",
   "metadata": {},
   "source": [
    "## Bullets\n",
    "\n",
    "You may use the single dash to imetize.\n",
    "\n",
    "The following topics will be discussed in Business Analytics:\n",
    "- Descriptive Analytics\n",
    "- Predictive Analytics\n",
    "- Prescriptive Analytics\n",
    "\n",
    "Or, use this format to put numbers\n",
    "\n",
    "You must possess the skills below to learn its application:\n",
    "1. Statistics\n",
    "2. Python\n",
    "3. Machine Learning"
   ]
  },
  {
   "cell_type": "markdown",
   "id": "60a83c6b",
   "metadata": {},
   "source": [
    "# Python Basics\n",
    "Learn the basic of Python and its data types"
   ]
  },
  {
   "cell_type": "markdown",
   "id": "163e1e90",
   "metadata": {},
   "source": [
    "## Input and Output"
   ]
  },
  {
   "cell_type": "code",
   "execution_count": 1,
   "id": "c9dd53cb",
   "metadata": {},
   "outputs": [
    {
     "name": "stdout",
     "output_type": "stream",
     "text": [
      "Your name is Juliana\n",
      "\n",
      "Juliana is your name\n",
      "Juliana is the name, soon it will be legend!\n",
      "\n",
      "Your age is\t 23\n"
     ]
    }
   ],
   "source": [
    "# Input name and display name\n",
    "name = input(\"Enter name: \") # auto data type casting\n",
    "print(\"Your name is\", name) # first version of the print\n",
    "print(\"\\n\" + name + \" is your name\") # second version\n",
    "print(f\"{name} is the name, soon it will be legend!\")\n",
    "\n",
    "age = 23 # integer\n",
    "# print(\"Your age is \" + age) # You can't combine integer to string\n",
    "print(f\"\\nYour age is\\t {age}\") # python 3.6"
   ]
  },
  {
   "cell_type": "markdown",
   "id": "50d68ab5",
   "metadata": {},
   "source": [
    "## Data type\n"
   ]
  },
  {
   "cell_type": "markdown",
   "id": "b4f8574d",
   "metadata": {},
   "source": [
    "### String"
   ]
  },
  {
   "cell_type": "code",
   "execution_count": 2,
   "id": "1bae6d39",
   "metadata": {},
   "outputs": [
    {
     "name": "stdout",
     "output_type": "stream",
     "text": [
      "Your name is Juliana Mancera\n",
      "Data type of name is  <class 'str'>\n"
     ]
    }
   ],
   "source": [
    "name = \"Juliana Mancera\" # variable name name\n",
    "print(f\"Your name is {name}\")\n",
    "print(f\"Data type of name is \", type(name))"
   ]
  },
  {
   "cell_type": "markdown",
   "id": "89a23958",
   "metadata": {},
   "source": [
    "### Integer"
   ]
  },
  {
   "cell_type": "code",
   "execution_count": 3,
   "id": "f619530c",
   "metadata": {},
   "outputs": [
    {
     "name": "stdout",
     "output_type": "stream",
     "text": [
      "Number 5 is an integer!\n",
      "<class 'int'>\n"
     ]
    }
   ],
   "source": [
    "number = 5 # variable\n",
    "print(f\"Number {number} is an integer!\")\n",
    "print(type(number))"
   ]
  },
  {
   "cell_type": "markdown",
   "id": "b9cbe3ae",
   "metadata": {},
   "source": [
    "### Float"
   ]
  },
  {
   "cell_type": "code",
   "execution_count": 4,
   "id": "c024aef0",
   "metadata": {},
   "outputs": [
    {
     "name": "stdout",
     "output_type": "stream",
     "text": [
      "Decimal number is 12.1234567891011\n"
     ]
    },
    {
     "data": {
      "text/plain": [
       "float"
      ]
     },
     "execution_count": 4,
     "metadata": {},
     "output_type": "execute_result"
    }
   ],
   "source": [
    "# Decimal number\n",
    "decimal_number = 12.1234567891011\n",
    "print(f\"Decimal number is {decimal_number}\")\n",
    "# float is also a double in python\n",
    "\n",
    "# check data type\n",
    "type(decimal_number)"
   ]
  },
  {
   "cell_type": "markdown",
   "id": "de8645b3",
   "metadata": {},
   "source": [
    "### Boolean"
   ]
  },
  {
   "cell_type": "code",
   "execution_count": 5,
   "id": "f520f7ae",
   "metadata": {},
   "outputs": [
    {
     "name": "stdout",
     "output_type": "stream",
     "text": [
      "True\n",
      "False\n"
     ]
    },
    {
     "data": {
      "text/plain": [
       "bool"
      ]
     },
     "execution_count": 5,
     "metadata": {},
     "output_type": "execute_result"
    }
   ],
   "source": [
    "# True and False must be capital on the first letter\n",
    "is_logged_in = True\n",
    "print(is_logged_in)\n",
    "print(is_logged_in == False)\n",
    "\n",
    "# check data type\n",
    "type(is_logged_in)"
   ]
  },
  {
   "cell_type": "markdown",
   "id": "25615542",
   "metadata": {},
   "source": [
    "### List (mutable - it can be changed)"
   ]
  },
  {
   "cell_type": "code",
   "execution_count": 6,
   "id": "1575a81f",
   "metadata": {},
   "outputs": [
    {
     "name": "stdout",
     "output_type": "stream",
     "text": [
      "Current year level list is [1, 2, 3]\n",
      "Updated year level is [1, 2, 3, 4]\n"
     ]
    },
    {
     "data": {
      "text/plain": [
       "list"
      ]
     },
     "execution_count": 6,
     "metadata": {},
     "output_type": "execute_result"
    }
   ],
   "source": [
    "year_level = [1,2,3] # use square bracker for list\n",
    "print(f\"Current year level list is {year_level}\")\n",
    "\n",
    "# append another year: 4\n",
    "year_level.append(4)\n",
    "print(f\"Updated year level is {year_level}\")\n",
    "\n",
    "# check data type\n",
    "type(year_level)"
   ]
  },
  {
   "cell_type": "markdown",
   "id": "76921728",
   "metadata": {},
   "source": [
    "### Tuple (immutable - can not be change)"
   ]
  },
  {
   "cell_type": "code",
   "execution_count": 7,
   "id": "08f8b088",
   "metadata": {},
   "outputs": [
    {
     "name": "stdout",
     "output_type": "stream",
     "text": [
      "(10, 20)\n"
     ]
    },
    {
     "data": {
      "text/plain": [
       "tuple"
      ]
     },
     "execution_count": 7,
     "metadata": {},
     "output_type": "execute_result"
    }
   ],
   "source": [
    "dimensions = (10,20) # uses parenthesis\n",
    "print(dimensions)\n",
    "type(dimensions)"
   ]
  },
  {
   "cell_type": "markdown",
   "id": "6538b21a",
   "metadata": {},
   "source": [
    "### Dictionary"
   ]
  },
  {
   "cell_type": "code",
   "execution_count": 8,
   "id": "12b2f398",
   "metadata": {},
   "outputs": [
    {
     "name": "stdout",
     "output_type": "stream",
     "text": [
      "Student name is Maria\n",
      "Age is 21\n",
      "Program is BSCS\n",
      "Student is a <class 'dict'>\n"
     ]
    }
   ],
   "source": [
    "# uses key-value pair, curly braces\n",
    "student = {name: \"Maria\", age: 21 , \"program\": \"BSCS\"}\n",
    "print(f'Student name is {student[name]}')\n",
    "print(f'Age is {student[age]}')\n",
    "print(f'Program is {student[\"program\"]}')\n",
    "\n",
    "print(f\"Student is a {type(student)}\")"
   ]
  },
  {
   "cell_type": "markdown",
   "id": "d869a2fe",
   "metadata": {},
   "source": [
    "### Set"
   ]
  },
  {
   "cell_type": "code",
   "execution_count": 9,
   "id": "dfcbb38d",
   "metadata": {},
   "outputs": [
    {
     "name": "stdout",
     "output_type": "stream",
     "text": [
      "{1, 2, 3, 4}\n"
     ]
    },
    {
     "data": {
      "text/plain": [
       "set"
      ]
     },
     "execution_count": 9,
     "metadata": {},
     "output_type": "execute_result"
    }
   ],
   "source": [
    "setNumbers = {1,2,3,4} # use curly braces\n",
    "print(setNumbers)\n",
    "type(setNumbers)"
   ]
  }
 ],
 "metadata": {
  "kernelspec": {
   "display_name": "Python 3",
   "language": "python",
   "name": "python3"
  },
  "language_info": {
   "codemirror_mode": {
    "name": "ipython",
    "version": 3
   },
   "file_extension": ".py",
   "mimetype": "text/x-python",
   "name": "python",
   "nbconvert_exporter": "python",
   "pygments_lexer": "ipython3",
   "version": "3.12.10"
  }
 },
 "nbformat": 4,
 "nbformat_minor": 5
}
